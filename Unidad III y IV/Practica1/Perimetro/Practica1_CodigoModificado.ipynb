{
  "nbformat": 4,
  "nbformat_minor": 0,
  "metadata": {
    "colab": {
      "provenance": [],
      "authorship_tag": "ABX9TyNq9rU2FSrm3eNVytPrcnOq",
      "include_colab_link": true
    },
    "kernelspec": {
      "name": "python3",
      "display_name": "Python 3"
    },
    "language_info": {
      "name": "python"
    }
  },
  "cells": [
    {
      "cell_type": "markdown",
      "metadata": {
        "id": "view-in-github",
        "colab_type": "text"
      },
      "source": [
        "<a href=\"https://colab.research.google.com/github/AmayaGM/IA/blob/main/Unidad%20III%20y%20IV/Practica1/Perimetro/Practica1_CodigoModificado.ipynb\" target=\"_parent\"><img src=\"https://colab.research.google.com/assets/colab-badge.svg\" alt=\"Open In Colab\"/></a>"
      ]
    },
    {
      "cell_type": "code",
      "execution_count": null,
      "metadata": {
        "id": "VNk5i4u_vAxd"
      },
      "outputs": [],
      "source": [
        "import tensorflow as tf\n",
        "import numpy as np"
      ]
    },
    {
      "cell_type": "code",
      "source": [
        "#datos\n",
        "#celcius = np.array([-15,-5,0,5,15], dtype=float)\n",
        "#fahrenheit = np.array ([5,23,32,41,59], dtype=float)\n",
        "d1 = np.array([1.1,2,3,4,5,6,7,8,9,10], dtype=float)\n",
        "d2 = np.array ([4.4,8,12,16,20,24,28,32,36,40], dtype=float)"
      ],
      "metadata": {
        "id": "WKdo0DXjvTVn"
      },
      "execution_count": null,
      "outputs": []
    },
    {
      "cell_type": "code",
      "source": [
        "#capa = tf.keras.layers.Dense(units=1, input_shape=[1])\n",
        "#modelo = tf.keras.Sequential([capa])\n",
        "oculta1=tf.keras.layers.Dense(units=3, input_shape=[1])\n",
        "oculta2=tf.keras.layers.Dense(units=3)\n",
        "salida = tf.keras.layers.Dense(units=1)\n",
        "modelo = tf.keras.Sequential([oculta1,oculta2,salida])"
      ],
      "metadata": {
        "id": "JMG0mFPFvX_-"
      },
      "execution_count": null,
      "outputs": []
    },
    {
      "cell_type": "code",
      "source": [
        "modelo.compile(\n",
        "    optimizer=tf.keras.optimizers.Adam(0.1),\n",
        "    loss='mean_squared_error'\n",
        ")"
      ],
      "metadata": {
        "id": "6GG4vWaivaU-"
      },
      "execution_count": null,
      "outputs": []
    },
    {
      "cell_type": "code",
      "source": [
        "print(\"comenzando entrenamiento...\")\n",
        "historial=modelo.fit(d1, d2, epochs=1000, verbose=False)\n",
        "print(\"modelo entrenado!!!\")"
      ],
      "metadata": {
        "colab": {
          "base_uri": "https://localhost:8080/"
        },
        "id": "kSFdbORAvcXt",
        "outputId": "d9041bd3-4bb8-419a-c882-eec536bdad2e"
      },
      "execution_count": null,
      "outputs": [
        {
          "output_type": "stream",
          "name": "stdout",
          "text": [
            "comenzando entrenamiento...\n",
            "modelo entrenado!!!\n"
          ]
        }
      ]
    },
    {
      "cell_type": "code",
      "source": [
        "import matplotlib.pyplot as plt\n",
        "plt.xlabel(\"# Epoca\")\n",
        "plt.ylabel(\"Magnitu de pérdida\")\n",
        "plt.plot(historial.history[\"loss\"])"
      ],
      "metadata": {
        "colab": {
          "base_uri": "https://localhost:8080/",
          "height": 466
        },
        "id": "VZjvrftqvfnM",
        "outputId": "a7fec043-5105-431e-a7f6-f626b84c0539"
      },
      "execution_count": null,
      "outputs": [
        {
          "output_type": "execute_result",
          "data": {
            "text/plain": [
              "[<matplotlib.lines.Line2D at 0x7e720b3bdbd0>]"
            ]
          },
          "metadata": {},
          "execution_count": 7
        },
        {
          "output_type": "display_data",
          "data": {
            "text/plain": [
              "<Figure size 640x480 with 1 Axes>"
            ],
            "image/png": "[encoded data removed]"
          },
          "metadata": {}
        }
      ]
    },
    {
      "cell_type": "code",
      "source": [
        "print(\"Realizar una predicción!!!\")\n",
        "resultado = modelo.predict([20.2])\n",
        "print(\"El resultado es\"+str(resultado)+\"cm\")"
      ],
      "metadata": {
        "colab": {
          "base_uri": "https://localhost:8080/"
        },
        "id": "WjNW-HKMviqc",
        "outputId": "4532c41b-9b1f-43ad-f98c-3a2c93aab0ac"
      },
      "execution_count": null,
      "outputs": [
        {
          "output_type": "stream",
          "name": "stdout",
          "text": [
            "Realizar una predicción!!!\n",
            "1/1 [==============================] - 0s 43ms/step\n",
            "El resultado es[[80.799995]]cm\n"
          ]
        }
      ]
    },
    {
      "cell_type": "code",
      "source": [],
      "metadata": {
        "id": "-BekEuk1vlAG"
      },
      "execution_count": null,
      "outputs": []
    }
  ]
}